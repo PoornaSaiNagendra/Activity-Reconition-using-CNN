{
  "nbformat": 4,
  "nbformat_minor": 0,
  "metadata": {
    "colab": {
      "name": "Sai_teja.ipynb",
      "provenance": [],
      "collapsed_sections": []
    },
    "kernelspec": {
      "name": "python3",
      "display_name": "Python 3"
    }
  },
  "cells": [
    {
      "cell_type": "code",
      "metadata": {
        "id": "VSEMzYdrNgnH",
        "colab_type": "code",
        "colab": {}
      },
      "source": [
        "import numpy as np\n",
        "import os\n",
        "import random\n",
        "import cv2\n",
        "import zipfile\n",
        "import matplotlib.pyplot as plt\n",
        "import tensorflow as tf\n",
        "from tensorflow.keras.models import Sequential\n",
        "from tensorflow.keras.layers import Dense,Dropout,Activation,Conv2D,MaxPooling2D\n",
        "from tensorflow.keras.layers import Dense, Dropout, Flatten\n",
        "from tensorflow.keras.layers import Conv2D, MaxPooling2D"
      ],
      "execution_count": 0,
      "outputs": []
    },
    {
      "cell_type": "code",
      "metadata": {
        "id": "xsRgyFlZMkf7",
        "colab_type": "code",
        "colab": {}
      },
      "source": [
        "def unzipping(path, folderNameToSave):\n",
        "  zip_ref = zipfile.ZipFile(path, 'r')\n",
        "  zip_ref.extractall(folderNameToSave)\n",
        "  zip_ref.close()"
      ],
      "execution_count": 0,
      "outputs": []
    },
    {
      "cell_type": "code",
      "metadata": {
        "id": "gAUnsR0nMrqR",
        "colab_type": "code",
        "colab": {}
      },
      "source": [
        "unzipping('final.zip', 'final')"
      ],
      "execution_count": 0,
      "outputs": []
    },
    {
      "cell_type": "code",
      "metadata": {
        "id": "iLyg2o03NW6I",
        "colab_type": "code",
        "colab": {}
      },
      "source": [
        "DATADIR=\"final/original/\"\n",
        "CATEGORIES=['jumping','running','throwingball']"
      ],
      "execution_count": 0,
      "outputs": []
    },
    {
      "cell_type": "code",
      "metadata": {
        "id": "RN7qmDIYNmM0",
        "colab_type": "code",
        "colab": {}
      },
      "source": [
        "def create_data(DATADIR, CATEGORIES):\n",
        "    data = []\n",
        "    img_size=256\n",
        "    for category in CATEGORIES:\n",
        "        path=DATADIR+category\n",
        "        class_num=CATEGORIES.index(category)\n",
        "        print(class_num)\n",
        "        for img in os.listdir(path):\n",
        "            img_array=cv2.imread(os.path.join(path,img))\n",
        "            new_array=cv2.resize(img_array,(img_size,img_size))\n",
        "            data.append([new_array,class_num])\n",
        "    return data"
      ],
      "execution_count": 0,
      "outputs": []
    },
    {
      "cell_type": "code",
      "metadata": {
        "id": "mMxhzfJVNpks",
        "colab_type": "code",
        "outputId": "0f7891d4-264d-4709-84e2-9c4340a49f6b",
        "colab": {
          "base_uri": "https://localhost:8080/",
          "height": 68
        }
      },
      "source": [
        "data = create_data(DATADIR, CATEGORIES)"
      ],
      "execution_count": 0,
      "outputs": [
        {
          "output_type": "stream",
          "text": [
            "0\n",
            "1\n",
            "2\n"
          ],
          "name": "stdout"
        }
      ]
    },
    {
      "cell_type": "code",
      "metadata": {
        "id": "EKgqgskmNsKC",
        "colab_type": "code",
        "colab": {}
      },
      "source": [
        "random.shuffle(data)"
      ],
      "execution_count": 0,
      "outputs": []
    },
    {
      "cell_type": "code",
      "metadata": {
        "id": "__ev0hHBNvjw",
        "colab_type": "code",
        "colab": {}
      },
      "source": [
        "training_data = data"
      ],
      "execution_count": 0,
      "outputs": []
    },
    {
      "cell_type": "code",
      "metadata": {
        "id": "VgwUV9TONy8o",
        "colab_type": "code",
        "outputId": "9798969f-120b-4018-a294-474486466a16",
        "colab": {
          "base_uri": "https://localhost:8080/",
          "height": 34
        }
      },
      "source": [
        "len(training_data)"
      ],
      "execution_count": 0,
      "outputs": [
        {
          "output_type": "execute_result",
          "data": {
            "text/plain": [
              "725"
            ]
          },
          "metadata": {
            "tags": []
          },
          "execution_count": 12
        }
      ]
    },
    {
      "cell_type": "code",
      "metadata": {
        "id": "kOGC6-0nN1h7",
        "colab_type": "code",
        "colab": {}
      },
      "source": [
        "trainX=[]\n",
        "trainY=[]"
      ],
      "execution_count": 0,
      "outputs": []
    },
    {
      "cell_type": "code",
      "metadata": {
        "id": "Sd7pAXpDN4AV",
        "colab_type": "code",
        "colab": {}
      },
      "source": [
        "for features,label in training_data:\n",
        "    trainX.append(features)\n",
        "    trainY.append(label)\n",
        "    \n",
        "trainX=np.array(trainX)\n",
        "trainY = np.array(trainY)"
      ],
      "execution_count": 0,
      "outputs": []
    },
    {
      "cell_type": "code",
      "metadata": {
        "id": "1nHu03N9N6bn",
        "colab_type": "code",
        "outputId": "0ac78aaa-7f46-48ec-82e8-abc94b51fb2d",
        "colab": {
          "base_uri": "https://localhost:8080/",
          "height": 34
        }
      },
      "source": [
        "trainX[0].shape"
      ],
      "execution_count": 0,
      "outputs": [
        {
          "output_type": "execute_result",
          "data": {
            "text/plain": [
              "(256, 256, 3)"
            ]
          },
          "metadata": {
            "tags": []
          },
          "execution_count": 15
        }
      ]
    },
    {
      "cell_type": "code",
      "metadata": {
        "id": "7jiRPl65N9Be",
        "colab_type": "code",
        "outputId": "5ac86130-362e-44be-c008-7b0f61b3bd20",
        "colab": {
          "base_uri": "https://localhost:8080/",
          "height": 34
        }
      },
      "source": [
        "trainX.shape"
      ],
      "execution_count": 0,
      "outputs": [
        {
          "output_type": "execute_result",
          "data": {
            "text/plain": [
              "(725, 256, 256, 3)"
            ]
          },
          "metadata": {
            "tags": []
          },
          "execution_count": 16
        }
      ]
    },
    {
      "cell_type": "code",
      "metadata": {
        "id": "0j5OxL6wN_nH",
        "colab_type": "code",
        "outputId": "0da513e3-2b7a-482e-bd62-47996e1b0284",
        "colab": {
          "base_uri": "https://localhost:8080/",
          "height": 34
        }
      },
      "source": [
        "trainX=trainX/255.0\n",
        "trainX.shape"
      ],
      "execution_count": 0,
      "outputs": [
        {
          "output_type": "execute_result",
          "data": {
            "text/plain": [
              "(725, 256, 256, 3)"
            ]
          },
          "metadata": {
            "tags": []
          },
          "execution_count": 17
        }
      ]
    },
    {
      "cell_type": "code",
      "metadata": {
        "id": "3De9FobiOCeY",
        "colab_type": "code",
        "colab": {}
      },
      "source": [
        "model = Sequential()\n",
        "\n",
        "model.add(Conv2D(256, kernel_size=(1, 1),input_shape=(256,256,3)))\n",
        "model.add(tf.keras.layers.BatchNormalization())\n",
        "model.add(tf.keras.layers.Activation('relu'))\n",
        "model.add(MaxPooling2D((3, 3)))\n",
        "\n",
        "model.add(Conv2D(128, (3, 3)))\n",
        "model.add(tf.keras.layers.BatchNormalization())\n",
        "model.add(tf.keras.layers.Activation('relu'))\n",
        "model.add(MaxPooling2D(pool_size=(3, 3)))\n",
        "\n",
        "model.add(Conv2D(64, (3, 3)))\n",
        "model.add(tf.keras.layers.BatchNormalization())\n",
        "model.add(tf.keras.layers.Activation('relu'))\n",
        "model.add(MaxPooling2D(pool_size=(2, 2)))\n",
        "\n",
        "model.add(Flatten())\n",
        "\n",
        "model.add(Dense(32, activation='relu'))\n",
        "\n",
        "model.add(Dense(64, activation='relu'))\n",
        "\n",
        "model.add(Dense(16, activation='relu'))\n",
        "       \n",
        "model.add(Dense(3, activation='softmax'))"
      ],
      "execution_count": 0,
      "outputs": []
    },
    {
      "cell_type": "code",
      "metadata": {
        "id": "JTsaYkRVOGod",
        "colab_type": "code",
        "outputId": "1d4d7332-9b47-4849-9e94-5b7a0413d575",
        "colab": {
          "base_uri": "https://localhost:8080/",
          "height": 731
        }
      },
      "source": [
        "model.summary()"
      ],
      "execution_count": 0,
      "outputs": [
        {
          "output_type": "stream",
          "text": [
            "Model: \"sequential_1\"\n",
            "_________________________________________________________________\n",
            "Layer (type)                 Output Shape              Param #   \n",
            "=================================================================\n",
            "conv2d_3 (Conv2D)            (None, 256, 256, 256)     1024      \n",
            "_________________________________________________________________\n",
            "batch_normalization_3 (Batch (None, 256, 256, 256)     1024      \n",
            "_________________________________________________________________\n",
            "activation_3 (Activation)    (None, 256, 256, 256)     0         \n",
            "_________________________________________________________________\n",
            "max_pooling2d_3 (MaxPooling2 (None, 85, 85, 256)       0         \n",
            "_________________________________________________________________\n",
            "conv2d_4 (Conv2D)            (None, 83, 83, 128)       295040    \n",
            "_________________________________________________________________\n",
            "batch_normalization_4 (Batch (None, 83, 83, 128)       512       \n",
            "_________________________________________________________________\n",
            "activation_4 (Activation)    (None, 83, 83, 128)       0         \n",
            "_________________________________________________________________\n",
            "max_pooling2d_4 (MaxPooling2 (None, 27, 27, 128)       0         \n",
            "_________________________________________________________________\n",
            "conv2d_5 (Conv2D)            (None, 25, 25, 64)        73792     \n",
            "_________________________________________________________________\n",
            "batch_normalization_5 (Batch (None, 25, 25, 64)        256       \n",
            "_________________________________________________________________\n",
            "activation_5 (Activation)    (None, 25, 25, 64)        0         \n",
            "_________________________________________________________________\n",
            "max_pooling2d_5 (MaxPooling2 (None, 12, 12, 64)        0         \n",
            "_________________________________________________________________\n",
            "flatten_1 (Flatten)          (None, 9216)              0         \n",
            "_________________________________________________________________\n",
            "dense_4 (Dense)              (None, 32)                294944    \n",
            "_________________________________________________________________\n",
            "dense_5 (Dense)              (None, 64)                2112      \n",
            "_________________________________________________________________\n",
            "dense_6 (Dense)              (None, 16)                1040      \n",
            "_________________________________________________________________\n",
            "dense_7 (Dense)              (None, 3)                 51        \n",
            "=================================================================\n",
            "Total params: 669,795\n",
            "Trainable params: 668,899\n",
            "Non-trainable params: 896\n",
            "_________________________________________________________________\n"
          ],
          "name": "stdout"
        }
      ]
    },
    {
      "cell_type": "code",
      "metadata": {
        "id": "xk-8x_D_OJrZ",
        "colab_type": "code",
        "colab": {}
      },
      "source": [
        "model.compile(optimizer=\"adam\",loss=tf.keras.losses.SparseCategoricalCrossentropy(from_logits=True),metrics=['accuracy'])"
      ],
      "execution_count": 0,
      "outputs": []
    },
    {
      "cell_type": "code",
      "metadata": {
        "id": "zKf473yLOMoV",
        "colab_type": "code",
        "outputId": "c14bfb91-d694-42e4-be98-81fe1aa24d79",
        "colab": {
          "base_uri": "https://localhost:8080/",
          "height": 598
        }
      },
      "source": [
        "callback = tf.keras.callbacks.EarlyStopping(patience=3)\n",
        "model.fit(trainX,trainY,epochs=16, validation_split=0.25, batch_size=16)"
      ],
      "execution_count": 0,
      "outputs": [
        {
          "output_type": "stream",
          "text": [
            "Epoch 1/16\n",
            "34/34 [==============================] - 387s 11s/step - loss: 0.9694 - accuracy: 0.5801 - val_loss: 1.1031 - val_accuracy: 0.4011\n",
            "Epoch 2/16\n",
            "34/34 [==============================] - 339s 10s/step - loss: 0.9470 - accuracy: 0.6041 - val_loss: 1.3207 - val_accuracy: 0.2308\n",
            "Epoch 3/16\n",
            "34/34 [==============================] - 323s 10s/step - loss: 0.9542 - accuracy: 0.5948 - val_loss: 1.3193 - val_accuracy: 0.2308\n",
            "Epoch 4/16\n",
            "34/34 [==============================] - 329s 10s/step - loss: 0.9438 - accuracy: 0.6077 - val_loss: 1.3044 - val_accuracy: 0.2363\n",
            "Epoch 5/16\n",
            "34/34 [==============================] - 326s 10s/step - loss: 0.8652 - accuracy: 0.6888 - val_loss: 1.3160 - val_accuracy: 0.2308\n",
            "Epoch 6/16\n",
            "34/34 [==============================] - 338s 10s/step - loss: 0.8295 - accuracy: 0.7219 - val_loss: 1.1528 - val_accuracy: 0.3626\n",
            "Epoch 7/16\n",
            "34/34 [==============================] - 383s 11s/step - loss: 0.8350 - accuracy: 0.7090 - val_loss: 0.9568 - val_accuracy: 0.5934\n",
            "Epoch 8/16\n",
            "34/34 [==============================] - 345s 10s/step - loss: 0.7566 - accuracy: 0.7864 - val_loss: 1.0573 - val_accuracy: 0.4231\n",
            "Epoch 9/16\n",
            "34/34 [==============================] - 363s 11s/step - loss: 0.7675 - accuracy: 0.7680 - val_loss: 0.9658 - val_accuracy: 0.5275\n",
            "Epoch 10/16\n",
            "34/34 [==============================] - 379s 11s/step - loss: 0.7273 - accuracy: 0.8214 - val_loss: 1.0541 - val_accuracy: 0.4560\n",
            "Epoch 11/16\n",
            "34/34 [==============================] - 387s 11s/step - loss: 0.6857 - accuracy: 0.8729 - val_loss: 0.8081 - val_accuracy: 0.7308\n",
            "Epoch 12/16\n",
            "34/34 [==============================] - 381s 11s/step - loss: 0.6862 - accuracy: 0.8637 - val_loss: 0.9895 - val_accuracy: 0.4835\n",
            "Epoch 13/16\n",
            "34/34 [==============================] - 384s 11s/step - loss: 0.6746 - accuracy: 0.8821 - val_loss: 0.8193 - val_accuracy: 0.7308\n",
            "Epoch 14/16\n",
            "34/34 [==============================] - 388s 11s/step - loss: 0.7018 - accuracy: 0.8508 - val_loss: 0.8110 - val_accuracy: 0.7363\n",
            "Epoch 15/16\n",
            "34/34 [==============================] - 383s 11s/step - loss: 0.7204 - accuracy: 0.8306 - val_loss: 0.7838 - val_accuracy: 0.7582\n",
            "Epoch 16/16\n",
            "34/34 [==============================] - 397s 12s/step - loss: 0.7231 - accuracy: 0.8287 - val_loss: 0.7640 - val_accuracy: 0.7912\n"
          ],
          "name": "stdout"
        },
        {
          "output_type": "execute_result",
          "data": {
            "text/plain": [
              "<tensorflow.python.keras.callbacks.History at 0x7ff4b18add68>"
            ]
          },
          "metadata": {
            "tags": []
          },
          "execution_count": 25
        }
      ]
    },
    {
      "cell_type": "code",
      "metadata": {
        "id": "xr3S4SqLmQvp",
        "colab_type": "code",
        "colab": {}
      },
      "source": [
        "unzipping('cric_2.zip', 'test2')"
      ],
      "execution_count": 0,
      "outputs": []
    },
    {
      "cell_type": "code",
      "metadata": {
        "id": "Vp4bw0i0mURZ",
        "colab_type": "code",
        "colab": {}
      },
      "source": [
        "unzipping('high_1.zip', 'test3')"
      ],
      "execution_count": 0,
      "outputs": []
    },
    {
      "cell_type": "code",
      "metadata": {
        "id": "SLqj-MsbmX7v",
        "colab_type": "code",
        "colab": {}
      },
      "source": [
        "unzipping('high_2 (2).zip', 'test4')"
      ],
      "execution_count": 0,
      "outputs": []
    },
    {
      "cell_type": "code",
      "metadata": {
        "id": "MxYm8_CdmfNu",
        "colab_type": "code",
        "colab": {}
      },
      "source": [
        "unzipping('high_2 (3).zip', 'test5')"
      ],
      "execution_count": 0,
      "outputs": []
    },
    {
      "cell_type": "code",
      "metadata": {
        "id": "mJp3Hdr-mlKB",
        "colab_type": "code",
        "colab": {}
      },
      "source": [
        "def prepro(path):\n",
        "  test1 = []\n",
        "  img_size = 256\n",
        "  for img in os.listdir(path):\n",
        "    img_array=cv2.imread(os.path.join(path,img))\n",
        "    new_array=cv2.resize(img_array,(img_size,img_size))\n",
        "    test1.append(new_array)\n",
        "  test1 = np.array(test1)\n",
        "  test1 = test1/255.0\n",
        "  print(test1.shape)\n",
        "  return test1"
      ],
      "execution_count": 0,
      "outputs": []
    },
    {
      "cell_type": "code",
      "metadata": {
        "id": "9x4MmxTSm3cx",
        "colab_type": "code",
        "colab": {}
      },
      "source": [
        "def pred(path):\n",
        "  test = prepro(path)\n",
        "  predTest = model.predict(test)\n",
        "  for frame in predTest:\n",
        "    print(CATEGORIES[np.argmax(frame)])"
      ],
      "execution_count": 0,
      "outputs": []
    },
    {
      "cell_type": "code",
      "metadata": {
        "id": "rSj1PuLFnGI-",
        "colab_type": "code",
        "colab": {}
      },
      "source": [
        "pred('test1')"
      ],
      "execution_count": 0,
      "outputs": []
    },
    {
      "cell_type": "code",
      "metadata": {
        "id": "CV177R51nKz7",
        "colab_type": "code",
        "colab": {}
      },
      "source": [
        "pred('test2')"
      ],
      "execution_count": 0,
      "outputs": []
    },
    {
      "cell_type": "code",
      "metadata": {
        "id": "i0FXgpfkncor",
        "colab_type": "code",
        "colab": {}
      },
      "source": [
        "pred('test3')"
      ],
      "execution_count": 0,
      "outputs": []
    },
    {
      "cell_type": "code",
      "metadata": {
        "id": "dFVWrjxbnhX0",
        "colab_type": "code",
        "colab": {}
      },
      "source": [
        "pred('test4')"
      ],
      "execution_count": 0,
      "outputs": []
    },
    {
      "cell_type": "code",
      "metadata": {
        "id": "h1Rr25Xlnk19",
        "colab_type": "code",
        "colab": {}
      },
      "source": [
        "pred('test5')"
      ],
      "execution_count": 0,
      "outputs": []
    },
    {
      "cell_type": "code",
      "metadata": {
        "id": "v8Tyh9sTnnF5",
        "colab_type": "code",
        "colab": {}
      },
      "source": [
        "# model.save('drive/My Drive/FinalArch.h5')"
      ],
      "execution_count": 0,
      "outputs": []
    },
    {
      "cell_type": "code",
      "metadata": {
        "id": "sND7Tj6On3oM",
        "colab_type": "code",
        "colab": {}
      },
      "source": [
        ""
      ],
      "execution_count": 0,
      "outputs": []
    }
  ]
}